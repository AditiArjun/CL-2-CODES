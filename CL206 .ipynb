{
 "cells": [
  {
   "cell_type": "markdown",
   "metadata": {
    "id": "taVgbGqbYsUk"
   },
   "source": [
    "Part 1 Stop word Removal"
   ]
  },
  {
   "cell_type": "code",
   "execution_count": 3,
   "metadata": {
    "colab": {
     "base_uri": "https://localhost:8080/"
    },
    "id": "87_bTOWeYn4k",
    "outputId": "490b93f0-1d5a-4b47-f22d-36dfc05045fd"
   },
   "outputs": [
    {
     "name": "stderr",
     "output_type": "stream",
     "text": [
      "[nltk_data] Downloading package stopwords to\n",
      "[nltk_data]     /Users/aditichavan/nltk_data...\n",
      "[nltk_data]   Package stopwords is already up-to-date!\n"
     ]
    },
    {
     "data": {
      "text/plain": [
       "True"
      ]
     },
     "execution_count": 3,
     "metadata": {},
     "output_type": "execute_result"
    }
   ],
   "source": [
    "import nltk\n",
    "from nltk.corpus import stopwords\n",
    "nltk.download('stopwords')\n",
    "\n",
    "print(stopwords.words('english'))\n",
    "\n",
    "from nltk.corpus import stopwords\n",
    "from nltk.tokenize import word_tokenize\n",
    "nltk.download('punkt')\n",
    "\n",
    "example_sent = \"\"\"This is a sample sentence,\n",
    " showing off the stop words filtration.\"\"\"\n",
    "\n",
    "stop_words = set(stopwords.words('english'))\n",
    "\n",
    "word_tokens = word_tokenize(example_sent)\n",
    "\n",
    "# converts the words in word_tokens to lower case and then checks whether\n",
    "#they are present in stop_words or not\n",
    "\n",
    "filtered_sentence = [w for w in word_tokens if not w.lower() in stop_words]\n",
    "\n",
    "#with no lower case conversion\n",
    "\n",
    "filtered_sentence = []\n",
    "\n",
    "for w in word_tokens:\n",
    "\n",
    " if w not in stop_words:\n",
    "\n",
    "     filtered_sentence.append(w)\n",
    "\n",
    "print(word_tokens)\n",
    "\n",
    "print(filtered_sentence)\n",
    "\n",
    "\n",
    "\n",
    "\n",
    "\n",
    "\n",
    "#Part 2 Performing Stop word in File\n",
    "\n",
    "import io\n",
    "from nltk.corpus import stopwords\n",
    "from nltk.tokenize import word_tokenize\n",
    "# word_tokenize accepts\n",
    "# a string as an input, not a file.\n",
    "stop_words = set(stopwords.words('english'))\n",
    "\n",
    "file1 = open(\"sample.txt\")\n",
    "\n",
    "line = file1.read()\n",
    "\n",
    "words = line.split()\n",
    "\n",
    "print(f\"Before Removing Stop Words : \\n{words}\\nLength : {len(words)}\")\n",
    "\n",
    "\n",
    "for r in words:\n",
    "    if not r in stop_words:\n",
    "        appendFile = open('output_filteredtext.txt','a')\n",
    "        appendFile.write(\" \"+r)\n",
    "        appendFile.close()\n",
    "\n",
    "\n",
    "file2 = open(\"output_filteredtext.txt\")\n",
    "\n",
    "line2 = file2.read()\n",
    "\n",
    "words = line2.split()\n",
    "\n",
    "print(f\"After Removing Stop Words : \\n{words}\\nLength : {len(words)}\")\n",
    "\n",
    "\n",
    "\n",
    "\n",
    "\n",
    "#Part 3 Stemming\n",
    "\n",
    "from nltk.tokenize import word_tokenize\n",
    "from nltk.stem import PorterStemmer\n",
    "\n",
    "ps = PorterStemmer()\n",
    "\n",
    "sample = ['program', 'programmer', 'programming', 'programs', 'programmers']\n",
    "\n",
    "for s in sample:\n",
    "    print(f\"{s} : {ps.stem(s)}\")\n",
    "\n",
    "\n",
    "sentence = \"Programmers program with different programming languages\"\n",
    "words = word_tokenize(sentence)\n",
    "print(words)\n",
    "\n",
    "\n",
    "for w in words:\n",
    "    print(f\"{w} : {ps.stem(w)}\")"
   ]
  },
  {
   "cell_type": "code",
   "execution_count": null,
   "metadata": {},
   "outputs": [],
   "source": []
  }
 ],
 "metadata": {
  "colab": {
   "provenance": []
  },
  "kernelspec": {
   "display_name": "Python 3 (ipykernel)",
   "language": "python",
   "name": "python3"
  },
  "language_info": {
   "codemirror_mode": {
    "name": "ipython",
    "version": 3
   },
   "file_extension": ".py",
   "mimetype": "text/x-python",
   "name": "python",
   "nbconvert_exporter": "python",
   "pygments_lexer": "ipython3",
   "version": "3.12.4"
  }
 },
 "nbformat": 4,
 "nbformat_minor": 4
}
